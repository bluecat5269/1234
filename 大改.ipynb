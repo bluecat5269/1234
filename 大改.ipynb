{
 "cells": [
  {
   "cell_type": "code",
   "execution_count": 1,
   "metadata": {},
   "outputs": [
    {
     "name": "stderr",
     "output_type": "stream",
     "text": [
      "Using TensorFlow backend.\n"
     ]
    }
   ],
   "source": [
    "%matplotlib inline\n",
    "import matplotlib.pyplot as plt\n",
    "import pandas as pd \n",
    "import numpy as np\n",
    "from keras.datasets import mnist\n",
    "from keras.utils import np_utils\n",
    "from keras.models import Sequential\n",
    "from keras.layers import Dense, Activation\n",
    "from keras.optimizers import SGD\n",
    "from ipywidgets import interact_manual"
   ]
  },
  {
   "cell_type": "code",
   "execution_count": 2,
   "metadata": {},
   "outputs": [],
   "source": [
    "import tensorflow as tf"
   ]
  },
  {
   "cell_type": "code",
   "execution_count": 3,
   "metadata": {},
   "outputs": [],
   "source": [
    "from tensorflow.keras.datasets import fashion_mnist"
   ]
  },
  {
   "cell_type": "code",
   "execution_count": 4,
   "metadata": {},
   "outputs": [],
   "source": [
    "(x_train, y_train), (x_test, y_test) = fashion_mnist.load_data()"
   ]
  },
  {
   "cell_type": "code",
   "execution_count": 5,
   "metadata": {},
   "outputs": [],
   "source": [
    "class_names = ['T-shirt/top', 'Trouser', 'Pullover', 'Dress', 'Coat',\n",
    "               'Sandal', 'Shirt', 'Sneaker', 'Bag', 'Ankle boot']"
   ]
  },
  {
   "cell_type": "code",
   "execution_count": 6,
   "metadata": {},
   "outputs": [
    {
     "name": "stdout",
     "output_type": "stream",
     "text": [
      "這是 Bag\n"
     ]
    },
    {
     "data": {
      "image/png": "[encoded data removed]",
      "text/plain": [
       "<Figure size 432x288 with 1 Axes>"
      ]
     },
     "metadata": {
      "needs_background": "light"
     },
     "output_type": "display_data"
    }
   ],
   "source": [
    "n = 1234\n",
    "print('這是', class_names[y_train[n]])\n",
    "plt.imshow(x_train[n], cmap='Greys');"
   ]
  },
  {
   "cell_type": "code",
   "execution_count": 7,
   "metadata": {},
   "outputs": [
    {
     "data": {
      "image/png": "[encoded data removed]",
      "text/plain": [
       "<Figure size 432x288 with 5 Axes>"
      ]
     },
     "metadata": {},
     "output_type": "display_data"
    }
   ],
   "source": [
    "pick = np.random.choice(60000, 5, replace=False)\n",
    "\n",
    "for i in range(5):\n",
    "    n = pick[i]\n",
    "    ax = plt.subplot(151+i)\n",
    "    ax.set_xticks([])\n",
    "    ax.set_yticks([])\n",
    "    ax.set_title(class_names[y_train[n]], fontsize=10)\n",
    "    plt.imshow(x_train[n], cmap='Greys')  \n"
   ]
  },
  {
   "cell_type": "code",
   "execution_count": 8,
   "metadata": {},
   "outputs": [
    {
     "data": {
      "text/plain": [
       "(60000, 28, 28)"
      ]
     },
     "execution_count": 8,
     "metadata": {},
     "output_type": "execute_result"
    }
   ],
   "source": [
    "x_train.shape"
   ]
  },
  {
   "cell_type": "code",
   "execution_count": 9,
   "metadata": {},
   "outputs": [
    {
     "data": {
      "text/plain": [
       "(10000, 28, 28)"
      ]
     },
     "execution_count": 9,
     "metadata": {},
     "output_type": "execute_result"
    }
   ],
   "source": [
    "x_test.shape"
   ]
  },
  {
   "cell_type": "code",
   "execution_count": 10,
   "metadata": {},
   "outputs": [],
   "source": [
    "x_train=x_train.reshape(60000,784)"
   ]
  },
  {
   "cell_type": "code",
   "execution_count": 11,
   "metadata": {},
   "outputs": [],
   "source": [
    "x_test=x_test.reshape(10000,784)"
   ]
  },
  {
   "cell_type": "code",
   "execution_count": 12,
   "metadata": {},
   "outputs": [
    {
     "data": {
      "text/plain": [
       "array([[0, 0, 0, ..., 0, 0, 0],\n",
       "       [0, 0, 0, ..., 0, 0, 0],\n",
       "       [0, 0, 0, ..., 0, 0, 0],\n",
       "       ...,\n",
       "       [0, 0, 0, ..., 0, 0, 0],\n",
       "       [0, 0, 0, ..., 0, 0, 0],\n",
       "       [0, 0, 0, ..., 0, 0, 0]], dtype=uint8)"
      ]
     },
     "execution_count": 12,
     "metadata": {},
     "output_type": "execute_result"
    }
   ],
   "source": [
    "x_train"
   ]
  },
  {
   "cell_type": "code",
   "execution_count": 13,
   "metadata": {},
   "outputs": [],
   "source": [
    "from tensorflow.keras.utils import to_categorical"
   ]
  },
  {
   "cell_type": "code",
   "execution_count": 14,
   "metadata": {},
   "outputs": [],
   "source": [
    "y_train=to_categorical(y_train,10)"
   ]
  },
  {
   "cell_type": "code",
   "execution_count": 15,
   "metadata": {},
   "outputs": [],
   "source": [
    "y_test=to_categorical(y_test,10)"
   ]
  },
  {
   "cell_type": "code",
   "execution_count": 16,
   "metadata": {},
   "outputs": [
    {
     "data": {
      "text/plain": [
       "array([0., 0., 0., 1., 0., 0., 0., 0., 0., 0.], dtype=float32)"
      ]
     },
     "execution_count": 16,
     "metadata": {},
     "output_type": "execute_result"
    }
   ],
   "source": [
    "y_train[n]"
   ]
  },
  {
   "cell_type": "code",
   "execution_count": 17,
   "metadata": {},
   "outputs": [],
   "source": [
    "from tensorflow.keras.models import Sequential\n",
    "from tensorflow.keras.layers import Dense\n",
    "from tensorflow.keras.optimizers import SGD"
   ]
  },
  {
   "cell_type": "code",
   "execution_count": 18,
   "metadata": {},
   "outputs": [],
   "source": [
    "model = Sequential()"
   ]
  },
  {
   "cell_type": "markdown",
   "metadata": {},
   "source": [
    "### 更改神經元數量，並改一種輸出方式"
   ]
  },
  {
   "cell_type": "code",
   "execution_count": 19,
   "metadata": {},
   "outputs": [],
   "source": [
    "model.add(Dense(300, input_dim = 784, activation='sigmoid'))\n",
    "model.add(Dense(200, activation='relu'))\n",
    "model.add(Dense(2000, activation='relu')) ###改了神經元數量\n",
    "model.add(Dense(10, activation='sigmoid')) ### 換一種方式"
   ]
  },
  {
   "cell_type": "code",
   "execution_count": 20,
   "metadata": {},
   "outputs": [],
   "source": [
    "### 組裝我們的神經網路"
   ]
  },
  {
   "cell_type": "code",
   "execution_count": 21,
   "metadata": {},
   "outputs": [],
   "source": [
    "model.compile(loss=\"mse\",optimizer=SGD(lr=0.087),metrics=[\"accuracy\"])"
   ]
  },
  {
   "cell_type": "code",
   "execution_count": 22,
   "metadata": {},
   "outputs": [
    {
     "name": "stdout",
     "output_type": "stream",
     "text": [
      "Model: \"sequential\"\n",
      "_________________________________________________________________\n",
      "Layer (type)                 Output Shape              Param #   \n",
      "=================================================================\n",
      "dense (Dense)                (None, 300)               235500    \n",
      "_________________________________________________________________\n",
      "dense_1 (Dense)              (None, 200)               60200     \n",
      "_________________________________________________________________\n",
      "dense_2 (Dense)              (None, 2000)              402000    \n",
      "_________________________________________________________________\n",
      "dense_3 (Dense)              (None, 10)                20010     \n",
      "=================================================================\n",
      "Total params: 717,710\n",
      "Trainable params: 717,710\n",
      "Non-trainable params: 0\n",
      "_________________________________________________________________\n"
     ]
    }
   ],
   "source": [
    "model.summary()"
   ]
  },
  {
   "cell_type": "markdown",
   "metadata": {},
   "source": [
    "### 改成訓練66次"
   ]
  },
  {
   "cell_type": "code",
   "execution_count": 23,
   "metadata": {},
   "outputs": [
    {
     "name": "stdout",
     "output_type": "stream",
     "text": [
      "Epoch 1/66\n",
      "60000/60000 [==============================] - 3s 54us/sample - loss: 0.0716 - accuracy: 0.5537\n",
      "Epoch 2/66\n",
      "60000/60000 [==============================] - 3s 51us/sample - loss: 0.0417 - accuracy: 0.7449\n",
      "Epoch 3/66\n",
      "60000/60000 [==============================] - 3s 51us/sample - loss: 0.0333 - accuracy: 0.7869\n",
      "Epoch 4/66\n",
      "60000/60000 [==============================] - 3s 50us/sample - loss: 0.0298 - accuracy: 0.8076\n",
      "Epoch 5/66\n",
      "60000/60000 [==============================] - 3s 55us/sample - loss: 0.0278 - accuracy: 0.8181\n",
      "Epoch 6/66\n",
      "60000/60000 [==============================] - 3s 57us/sample - loss: 0.0265 - accuracy: 0.8247\n",
      "Epoch 7/66\n",
      "60000/60000 [==============================] - 3s 55us/sample - loss: 0.0258 - accuracy: 0.8290\n",
      "Epoch 8/66\n",
      "60000/60000 [==============================] - 3s 57us/sample - loss: 0.0251 - accuracy: 0.8339\n",
      "Epoch 9/66\n",
      "60000/60000 [==============================] - 3s 51us/sample - loss: 0.0246 - accuracy: 0.8359\n",
      "Epoch 10/66\n",
      "60000/60000 [==============================] - 3s 53us/sample - loss: 0.0241 - accuracy: 0.8394\n",
      "Epoch 11/66\n",
      "60000/60000 [==============================] - 3s 52us/sample - loss: 0.0237 - accuracy: 0.8427\n",
      "Epoch 12/66\n",
      "60000/60000 [==============================] - 3s 54us/sample - loss: 0.0236 - accuracy: 0.8437\n",
      "Epoch 13/66\n",
      "60000/60000 [==============================] - 3s 51us/sample - loss: 0.0235 - accuracy: 0.8454\n",
      "Epoch 14/66\n",
      "60000/60000 [==============================] - 3s 52us/sample - loss: 0.0232 - accuracy: 0.8460\n",
      "Epoch 15/66\n",
      "60000/60000 [==============================] - 3s 51us/sample - loss: 0.0231 - accuracy: 0.8457\n",
      "Epoch 16/66\n",
      "60000/60000 [==============================] - 3s 50us/sample - loss: 0.0227 - accuracy: 0.8495\n",
      "Epoch 17/66\n",
      "60000/60000 [==============================] - 3s 50us/sample - loss: 0.0226 - accuracy: 0.8506\n",
      "Epoch 18/66\n",
      "60000/60000 [==============================] - 3s 50us/sample - loss: 0.0225 - accuracy: 0.8515\n",
      "Epoch 19/66\n",
      "60000/60000 [==============================] - 3s 54us/sample - loss: 0.0225 - accuracy: 0.8507\n",
      "Epoch 20/66\n",
      "60000/60000 [==============================] - 3s 52us/sample - loss: 0.0226 - accuracy: 0.8518\n",
      "Epoch 21/66\n",
      "60000/60000 [==============================] - 3s 55us/sample - loss: 0.0224 - accuracy: 0.8519\n",
      "Epoch 22/66\n",
      "60000/60000 [==============================] - 3s 53us/sample - loss: 0.0223 - accuracy: 0.8528\n",
      "Epoch 23/66\n",
      "60000/60000 [==============================] - 3s 51us/sample - loss: 0.0223 - accuracy: 0.8530\n",
      "Epoch 24/66\n",
      "60000/60000 [==============================] - 3s 54us/sample - loss: 0.0221 - accuracy: 0.8552\n",
      "Epoch 25/66\n",
      "60000/60000 [==============================] - 4s 58us/sample - loss: 0.0221 - accuracy: 0.8539\n",
      "Epoch 26/66\n",
      "60000/60000 [==============================] - 3s 53us/sample - loss: 0.0217 - accuracy: 0.8563\n",
      "Epoch 27/66\n",
      "60000/60000 [==============================] - 3s 50us/sample - loss: 0.0219 - accuracy: 0.8559\n",
      "Epoch 28/66\n",
      "60000/60000 [==============================] - 3s 51us/sample - loss: 0.0219 - accuracy: 0.8558\n",
      "Epoch 29/66\n",
      "60000/60000 [==============================] - 3s 52us/sample - loss: 0.0222 - accuracy: 0.8522\n",
      "Epoch 30/66\n",
      "60000/60000 [==============================] - 3s 53us/sample - loss: 0.0221 - accuracy: 0.8542\n",
      "Epoch 31/66\n",
      "60000/60000 [==============================] - 3s 55us/sample - loss: 0.0220 - accuracy: 0.8544\n",
      "Epoch 32/66\n",
      "60000/60000 [==============================] - 3s 51us/sample - loss: 0.0217 - accuracy: 0.8576\n",
      "Epoch 33/66\n",
      "60000/60000 [==============================] - 3s 50us/sample - loss: 0.0219 - accuracy: 0.8549\n",
      "Epoch 34/66\n",
      "60000/60000 [==============================] - 3s 50us/sample - loss: 0.0222 - accuracy: 0.8530\n",
      "Epoch 35/66\n",
      "60000/60000 [==============================] - 3s 46us/sample - loss: 0.0218 - accuracy: 0.8564\n",
      "Epoch 36/66\n",
      "60000/60000 [==============================] - 3s 48us/sample - loss: 0.0223 - accuracy: 0.8537\n",
      "Epoch 37/66\n",
      "60000/60000 [==============================] - 4s 62us/sample - loss: 0.0217 - accuracy: 0.8566\n",
      "Epoch 38/66\n",
      "60000/60000 [==============================] - 5s 84us/sample - loss: 0.0212 - accuracy: 0.8603\n",
      "Epoch 39/66\n",
      "60000/60000 [==============================] - 5s 89us/sample - loss: 0.0220 - accuracy: 0.8553\n",
      "Epoch 40/66\n",
      "60000/60000 [==============================] - 5s 79us/sample - loss: 0.0218 - accuracy: 0.8559\n",
      "Epoch 41/66\n",
      "60000/60000 [==============================] - 5s 81us/sample - loss: 0.0221 - accuracy: 0.8551\n",
      "Epoch 42/66\n",
      "60000/60000 [==============================] - 5s 83us/sample - loss: 0.0218 - accuracy: 0.8561\n",
      "Epoch 43/66\n",
      "60000/60000 [==============================] - 5s 82us/sample - loss: 0.0219 - accuracy: 0.8546\n",
      "Epoch 44/66\n",
      "60000/60000 [==============================] - 5s 81us/sample - loss: 0.0219 - accuracy: 0.8535\n",
      "Epoch 45/66\n",
      "60000/60000 [==============================] - 5s 81us/sample - loss: 0.0215 - accuracy: 0.8573\n",
      "Epoch 46/66\n",
      "60000/60000 [==============================] - 5s 87us/sample - loss: 0.0219 - accuracy: 0.8543\n",
      "Epoch 47/66\n",
      "60000/60000 [==============================] - 5s 85us/sample - loss: 0.0216 - accuracy: 0.8554\n",
      "Epoch 48/66\n",
      "60000/60000 [==============================] - 5s 83us/sample - loss: 0.0226 - accuracy: 0.8489\n",
      "Epoch 49/66\n",
      "60000/60000 [==============================] - 5s 81us/sample - loss: 0.0220 - accuracy: 0.8538\n",
      "Epoch 50/66\n",
      "60000/60000 [==============================] - 5s 83us/sample - loss: 0.0216 - accuracy: 0.8556\n",
      "Epoch 51/66\n",
      "60000/60000 [==============================] - 5s 81us/sample - loss: 0.0212 - accuracy: 0.8600\n",
      "Epoch 52/66\n",
      "60000/60000 [==============================] - 4s 60us/sample - loss: 0.0214 - accuracy: 0.8578\n",
      "Epoch 53/66\n",
      "60000/60000 [==============================] - 5s 76us/sample - loss: 0.0216 - accuracy: 0.8572\n",
      "Epoch 54/66\n",
      "60000/60000 [==============================] - 5s 86us/sample - loss: 0.0220 - accuracy: 0.8525\n",
      "Epoch 55/66\n",
      "60000/60000 [==============================] - 5s 81us/sample - loss: 0.0218 - accuracy: 0.8523\n",
      "Epoch 56/66\n",
      "60000/60000 [==============================] - 5s 79us/sample - loss: 0.0214 - accuracy: 0.8564\n",
      "Epoch 57/66\n",
      "60000/60000 [==============================] - 5s 82us/sample - loss: 0.0220 - accuracy: 0.8525\n",
      "Epoch 58/66\n",
      "60000/60000 [==============================] - 5s 81us/sample - loss: 0.0217 - accuracy: 0.8549\n",
      "Epoch 59/66\n",
      "60000/60000 [==============================] - 5s 87us/sample - loss: 0.0218 - accuracy: 0.8548\n",
      "Epoch 60/66\n",
      "60000/60000 [==============================] - 5s 82us/sample - loss: 0.0220 - accuracy: 0.8516\n",
      "Epoch 61/66\n",
      "60000/60000 [==============================] - 5s 85us/sample - loss: 0.0219 - accuracy: 0.8544\n",
      "Epoch 62/66\n",
      "60000/60000 [==============================] - 5s 81us/sample - loss: 0.0218 - accuracy: 0.8526\n",
      "Epoch 63/66\n",
      "60000/60000 [==============================] - 5s 87us/sample - loss: 0.0217 - accuracy: 0.8539\n",
      "Epoch 64/66\n",
      "60000/60000 [==============================] - 5s 86us/sample - loss: 0.0221 - accuracy: 0.8524\n",
      "Epoch 65/66\n",
      "60000/60000 [==============================] - 5s 87us/sample - loss: 0.0217 - accuracy: 0.8543\n",
      "Epoch 66/66\n",
      "60000/60000 [==============================] - 5s 91us/sample - loss: 0.0220 - accuracy: 0.8523\n"
     ]
    },
    {
     "data": {
      "text/plain": [
       "<tensorflow.python.keras.callbacks.History at 0x211ed5324e0>"
      ]
     },
     "execution_count": 23,
     "metadata": {},
     "output_type": "execute_result"
    }
   ],
   "source": [
    "model.fit(x_train,y_train,batch_size=100,epochs=66) ### 更改訓練次數"
   ]
  },
  {
   "cell_type": "code",
   "execution_count": 25,
   "metadata": {},
   "outputs": [],
   "source": [
    "### 訓練成本"
   ]
  },
  {
   "cell_type": "code",
   "execution_count": 26,
   "metadata": {},
   "outputs": [],
   "source": [
    "result=model.predict_classes(x_test)"
   ]
  },
  {
   "cell_type": "code",
   "execution_count": 27,
   "metadata": {},
   "outputs": [
    {
     "data": {
      "text/plain": [
       "array([9, 2, 1, ..., 8, 1, 5], dtype=int64)"
      ]
     },
     "execution_count": 27,
     "metadata": {},
     "output_type": "execute_result"
    }
   ],
   "source": [
    "result"
   ]
  },
  {
   "cell_type": "code",
   "execution_count": 45,
   "metadata": {},
   "outputs": [
    {
     "data": {
      "application/vnd.jupyter.widget-view+json": {
       "model_id": "8834e178cbd2492da895f9fedfa2f88d",
       "version_major": 2,
       "version_minor": 0
      },
      "text/plain": [
       "interactive(children=(IntSlider(value=1000, description='n', max=2000), Button(description='Run Interact', sty…"
      ]
     },
     "metadata": {},
     "output_type": "display_data"
    },
    {
     "data": {
      "text/plain": [
       "<function __main__.my_predict(n)>"
      ]
     },
     "execution_count": 45,
     "metadata": {},
     "output_type": "execute_result"
    }
   ],
   "source": [
    "def my_predict(n):\n",
    "    print('這是', class_names[result[n]])\n",
    "    x=x_test[n].reshape(28,28)\n",
    "    plt.imshow(x,cmap='Greys')\n",
    "interact_manual(my_predict,n=(0,2000))"
   ]
  },
  {
   "cell_type": "code",
   "execution_count": 59,
   "metadata": {},
   "outputs": [
    {
     "name": "stdout",
     "output_type": "stream",
     "text": [
      "這是 T-shirt/top\n"
     ]
    },
    {
     "data": {
      "image/png": "[encoded data removed]",
      "text/plain": [
       "<Figure size 432x288 with 1 Axes>"
      ]
     },
     "metadata": {
      "needs_background": "light"
     },
     "output_type": "display_data"
    }
   ],
   "source": [
    "n = 1214\n",
    "print('這是', class_names[result[n]])\n",
    "plt.imshow(x_test[n].reshape(28,28), cmap='Greys');"
   ]
  },
  {
   "cell_type": "code",
   "execution_count": 60,
   "metadata": {},
   "outputs": [
    {
     "name": "stdout",
     "output_type": "stream",
     "text": [
      "這是 Sandal\n"
     ]
    },
    {
     "data": {
      "image/png": "[encoded data removed]",
      "text/plain": [
       "<Figure size 432x288 with 1 Axes>"
      ]
     },
     "metadata": {
      "needs_background": "light"
     },
     "output_type": "display_data"
    }
   ],
   "source": [
    "n = 1211\n",
    "print('這是', class_names[result[n]])\n",
    "plt.imshow(x_test[n].reshape(28,28), cmap='Greys');"
   ]
  },
  {
   "cell_type": "markdown",
   "metadata": {},
   "source": [
    "# 製作對照組 100,87個神經元 20次訓練次數 再換輸出方式"
   ]
  },
  {
   "cell_type": "code",
   "execution_count": 51,
   "metadata": {},
   "outputs": [],
   "source": [
    "model1 = Sequential()\n",
    "model1.add(Dense(300, input_dim = 784, activation='sigmoid'))\n",
    "model1.add(Dense(100, activation='relu'))\n",
    "model1.add(Dense(87, activation='relu')) ###改了神經元數量\n",
    "model1.add(Dense(10, activation='softmax')) ### 換一種方式\n",
    "model1.compile(loss=\"mse\",optimizer=SGD(lr=0.087),metrics=[\"accuracy\"])"
   ]
  },
  {
   "cell_type": "code",
   "execution_count": 52,
   "metadata": {},
   "outputs": [
    {
     "name": "stdout",
     "output_type": "stream",
     "text": [
      "Model: \"sequential_3\"\n",
      "_________________________________________________________________\n",
      "Layer (type)                 Output Shape              Param #   \n",
      "=================================================================\n",
      "dense_12 (Dense)             (None, 300)               235500    \n",
      "_________________________________________________________________\n",
      "dense_13 (Dense)             (None, 100)               30100     \n",
      "_________________________________________________________________\n",
      "dense_14 (Dense)             (None, 87)                8787      \n",
      "_________________________________________________________________\n",
      "dense_15 (Dense)             (None, 10)                880       \n",
      "=================================================================\n",
      "Total params: 275,267\n",
      "Trainable params: 275,267\n",
      "Non-trainable params: 0\n",
      "_________________________________________________________________\n"
     ]
    }
   ],
   "source": [
    "model1.summary()"
   ]
  },
  {
   "cell_type": "code",
   "execution_count": 53,
   "metadata": {},
   "outputs": [
    {
     "name": "stdout",
     "output_type": "stream",
     "text": [
      "Epoch 1/20\n",
      "60000/60000 [==============================] - 1s 23us/sample - loss: 0.0591 - accuracy: 0.5840\n",
      "Epoch 2/20\n",
      "60000/60000 [==============================] - 1s 22us/sample - loss: 0.0336 - accuracy: 0.7763\n",
      "Epoch 3/20\n",
      "60000/60000 [==============================] - 1s 22us/sample - loss: 0.0288 - accuracy: 0.8048\n",
      "Epoch 4/20\n",
      "60000/60000 [==============================] - 1s 21us/sample - loss: 0.0268 - accuracy: 0.8162\n",
      "Epoch 5/20\n",
      "60000/60000 [==============================] - 1s 23us/sample - loss: 0.0262 - accuracy: 0.8208\n",
      "Epoch 6/20\n",
      "60000/60000 [==============================] - 1s 22us/sample - loss: 0.0254 - accuracy: 0.8259\n",
      "Epoch 7/20\n",
      "60000/60000 [==============================] - 1s 22us/sample - loss: 0.0246 - accuracy: 0.8300\n",
      "Epoch 8/20\n",
      "60000/60000 [==============================] - 1s 22us/sample - loss: 0.0248 - accuracy: 0.8290\n",
      "Epoch 9/20\n",
      "60000/60000 [==============================] - 1s 22us/sample - loss: 0.0248 - accuracy: 0.8298\n",
      "Epoch 10/20\n",
      "60000/60000 [==============================] - 1s 23us/sample - loss: 0.0246 - accuracy: 0.8286\n",
      "Epoch 11/20\n",
      "60000/60000 [==============================] - 1s 23us/sample - loss: 0.0244 - accuracy: 0.8314\n",
      "Epoch 12/20\n",
      "60000/60000 [==============================] - 1s 23us/sample - loss: 0.0240 - accuracy: 0.8340\n",
      "Epoch 13/20\n",
      "60000/60000 [==============================] - 1s 23us/sample - loss: 0.0241 - accuracy: 0.8322\n",
      "Epoch 14/20\n",
      "60000/60000 [==============================] - 1s 23us/sample - loss: 0.0236 - accuracy: 0.8360\n",
      "Epoch 15/20\n",
      "60000/60000 [==============================] - 1s 22us/sample - loss: 0.0235 - accuracy: 0.8360\n",
      "Epoch 16/20\n",
      "60000/60000 [==============================] - 1s 22us/sample - loss: 0.0239 - accuracy: 0.8332\n",
      "Epoch 17/20\n",
      "60000/60000 [==============================] - 1s 24us/sample - loss: 0.0238 - accuracy: 0.8342\n",
      "Epoch 18/20\n",
      "60000/60000 [==============================] - 1s 22us/sample - loss: 0.0237 - accuracy: 0.8360\n",
      "Epoch 19/20\n",
      "60000/60000 [==============================] - 1s 23us/sample - loss: 0.0237 - accuracy: 0.8377\n",
      "Epoch 20/20\n",
      "60000/60000 [==============================] - 1s 22us/sample - loss: 0.0235 - accuracy: 0.8378\n"
     ]
    },
    {
     "data": {
      "text/plain": [
       "<tensorflow.python.keras.callbacks.History at 0x22c87ea1b00>"
      ]
     },
     "execution_count": 53,
     "metadata": {},
     "output_type": "execute_result"
    }
   ],
   "source": [
    "model1.fit(x_train,y_train,batch_size=100,epochs=20) ### 更改訓練次數"
   ]
  },
  {
   "cell_type": "code",
   "execution_count": 24,
   "metadata": {},
   "outputs": [],
   "source": [
    "result1=model.predict_classes(x_test)"
   ]
  },
  {
   "cell_type": "code",
   "execution_count": 25,
   "metadata": {},
   "outputs": [
    {
     "data": {
      "application/vnd.jupyter.widget-view+json": {
       "model_id": "6c6a1620d7354c4fb324b4f4957f1424",
       "version_major": 2,
       "version_minor": 0
      },
      "text/plain": [
       "interactive(children=(IntSlider(value=1000, description='n', max=2000), Button(description='Run Interact', sty…"
      ]
     },
     "metadata": {},
     "output_type": "display_data"
    },
    {
     "data": {
      "text/plain": [
       "<function __main__.my_predict(n)>"
      ]
     },
     "execution_count": 25,
     "metadata": {},
     "output_type": "execute_result"
    }
   ],
   "source": [
    "def my_predict(n):\n",
    "    print('這是', class_names[result1[n]])\n",
    "    x=x_test[n].reshape(28,28)\n",
    "    plt.imshow(x,cmap='Greys')\n",
    "interact_manual(my_predict,n=(0,2000))"
   ]
  },
  {
   "cell_type": "code",
   "execution_count": null,
   "metadata": {},
   "outputs": [],
   "source": []
  },
  {
   "cell_type": "code",
   "execution_count": null,
   "metadata": {},
   "outputs": [],
   "source": []
  }
 ],
 "metadata": {
  "kernelspec": {
   "display_name": "Python 3",
   "language": "python",
   "name": "python3"
  },
  "language_info": {
   "codemirror_mode": {
    "name": "ipython",
    "version": 3
   },
   "file_extension": ".py",
   "mimetype": "text/x-python",
   "name": "python",
   "nbconvert_exporter": "python",
   "pygments_lexer": "ipython3",
   "version": "3.7.3"
  }
 },
 "nbformat": 4,
 "nbformat_minor": 2
}
